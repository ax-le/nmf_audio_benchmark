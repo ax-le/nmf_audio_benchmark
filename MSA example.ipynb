{
 "cells": [
  {
   "cell_type": "markdown",
   "metadata": {},
   "source": [
    "An example for the task of Music Structure Analysis.\n",
    "\n",
    "Find more details about the principle of the method in [1], and about the segmentation algorithm in [2].\n",
    "\n",
    "References:\n",
    "\n",
    "[1] Marmoret, A., Cohen, J. E., & Bimbot, F. (2022). \"Barwise Compression Schemes for Audio-Based Music Structure Analysis.\" Sound and Music Computing 2022. 2022.\n",
    "\n",
    "[2] Marmoret, A., Cohen, J. E., & Bimbot, F. (2023). Barwise Music Structure Analysis with the Correlation Block-Matching Segmentation Algorithm. Transactions of the International Society for Music Information Retrieval (TISMIR), 6(1), 167-185.\n"
   ]
  },
  {
   "cell_type": "code",
   "execution_count": 1,
   "metadata": {},
   "outputs": [],
   "source": [
    "# Define the dataloaders\n",
    "import nmf_audio_benchmark.dataloaders.msa_dataloader as msa_dl\n",
    "# Define the task\n",
    "import nmf_audio_benchmark.tasks.msa as msa\n",
    "# Define the algorithm\n",
    "import nmf_audio_benchmark.algorithms.nn_fac_algos as nn_fac_algos\n",
    "\n",
    "# Plotting functions\n",
    "from nmf_audio_benchmark.utils.common_plot import *"
   ]
  },
  {
   "cell_type": "code",
   "execution_count": 2,
   "metadata": {},
   "outputs": [
    {
     "name": "stderr",
     "output_type": "stream",
     "text": [
      "INFO: NumExpr defaulting to 6 threads.\n"
     ]
    }
   ],
   "source": [
    "# Path to the dataset\n",
    "datapath = '/home/a23marmo/datasets/rwcpop' \n",
    "\n",
    "# Instanciate the dataset object\n",
    "dataset_object = msa_dl.RWCPopDataloader\n",
    "dataset = dataset_object(datapath=datapath, feature = \"nn_log_mel\", cache_path = f\"{datapath}/cache\", download=False)\n",
    "\n",
    "# Select one song\n",
    "track_id, bars, barwise_tf_matrix, annotations_intervals = dataset[0]"
   ]
  },
  {
   "cell_type": "code",
   "execution_count": 3,
   "metadata": {},
   "outputs": [
    {
     "name": "stdout",
     "output_type": "stream",
     "text": [
      "Computing NMF...\n",
      "NMF done\n"
     ]
    }
   ],
   "source": [
    "# Instanciate the NMF object\n",
    "nmf = nn_fac_algos.nn_fac_NMF(32, beta=1, init = \"nndsvd\", nmf_type=\"unconstrained\", normalize=[False, True])\n",
    "\n",
    "print(\"Computing NMF...\")\n",
    "# Compute NMF\n",
    "W, H = nmf.run(data=barwise_tf_matrix, feature_object = dataset.feature_object) # the feature object is useless if the init is not set to \"harmonic\"\n",
    "\n",
    "print(\"NMF done\")\n",
    "\n",
    "# Plots the W matrix, representing the barwise representation of the song according to the musical patterns (defined in H)\n",
    "plot_me_this_spectrogram(W.T, title=\"W matrix\", x_axis=\"Bars\", y_axis=\"Musical patterns\")"
   ]
  },
  {
   "cell_type": "code",
   "execution_count": 5,
   "metadata": {},
   "outputs": [
    {
     "name": "stdout",
     "output_type": "stream",
     "text": [
      "F measure with 0.5s tolerance: 0.6086956521739131, and with 3s tolerance: 0.6521739130434783\n"
     ]
    }
   ],
   "source": [
    "# Instanciate the segmentation algorithm object\n",
    "segmentation_algorithm = msa.CBMEstimator(similarity_function=\"cosine\", penalty_weight=0, penalty_func=\"modulo8\", bands_number=7)\n",
    "\n",
    "# Predict the segments\n",
    "segments_estimated = segmentation_algorithm.predict_in_seconds(W, bars)\n",
    "\n",
    "# Compute the scores\n",
    "tol_05, tol_3 = segmentation_algorithm.score(segments_estimated, annotations_intervals)\n",
    "print(f\"F measure with 0.5s tolerance: {tol_05[2]}, and with 3s tolerance: {tol_3[2]}\")"
   ]
  }
 ],
 "metadata": {
  "kernelspec": {
   "display_name": "deep_nmf_dev",
   "language": "python",
   "name": "python3"
  },
  "language_info": {
   "codemirror_mode": {
    "name": "ipython",
    "version": 3
   },
   "file_extension": ".py",
   "mimetype": "text/x-python",
   "name": "python",
   "nbconvert_exporter": "python",
   "pygments_lexer": "ipython3",
   "version": "3.10.12"
  }
 },
 "nbformat": 4,
 "nbformat_minor": 2
}
