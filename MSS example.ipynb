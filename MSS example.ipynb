{
 "cells": [
  {
   "cell_type": "markdown",
   "metadata": {},
   "source": [
    "A one-song example for Music Source Separation using NMF.\n",
    "\n",
    "Find more details about the principle of the method in [1].\n",
    "\n",
    "References:\n",
    "\n",
    "[1] Vincent, E., Virtanen, T., & Gannot, S. (Eds.). (2018). Audio source separation and speech enhancement. John Wiley & Sons."
   ]
  },
  {
   "cell_type": "code",
   "execution_count": null,
   "metadata": {},
   "outputs": [],
   "source": [
    "import nmf_audio_benchmark.dataloaders.music.mss_dataloader as mss_dl\n",
    "import nmf_audio_benchmark.tasks.music.mss as mss\n",
    "import nmf_audio_benchmark.algorithms.nn_fac_nmf as nn_fac_nmf\n",
    "\n",
    "import base_audio.audio_helper as audio_helper"
   ]
  },
  {
   "cell_type": "code",
   "execution_count": null,
   "metadata": {},
   "outputs": [],
   "source": [
    "# Path to the dataset\n",
    "datapath = '/home/a23marmo/datasets/musdb18'\n",
    "\n",
    "# Instanciate a dataset object.\n",
    "dataset = mss_dl.MusDBDataloader(datapath=datapath, feature = \"stft_complex\")"
   ]
  },
  {
   "cell_type": "code",
   "execution_count": null,
   "metadata": {},
   "outputs": [],
   "source": [
    "# Select a particular track\n",
    "track_id, (mag, phase), stems, stems_labels = dataset[0]\n",
    "\n",
    "# Listen to this song\n",
    "print(\"Original sound\")\n",
    "audio_helper.listen_to_this_spectrogram(mag, dataset.feature_object, phase_retrieval = \"original_phase\", original_phase = phase)\n",
    "\n",
    "# Listen to the original sources\n",
    "print(\"Original sources\")\n",
    "for i in range(len(stems)):\n",
    "    print(f\"Source: {stems_labels[i]} - ({i+1}/{len(stems)})\")\n",
    "    if not (stems[i] == 0).all():\n",
    "        audio_helper.listen_to_this_signal(stems[i])\n",
    "    else:\n",
    "        print(\"Silent source\")"
   ]
  },
  {
   "cell_type": "code",
   "execution_count": null,
   "metadata": {},
   "outputs": [],
   "source": [
    "# Instanciate a NMF object.\n",
    "nmf = nn_fac_nmf.unconstrained_NMF(10, beta=2, init = \"nndsvd\", nmf_type=\"unconstrained\", normalize=[True, False])\n",
    "\n",
    "print(\"Computing NMF...\")\n",
    "# Compute NMF\n",
    "W, H = nmf.run(data=mag, feature_object = dataset.feature_object) # the feature object is useless if the init is not set to \"harmonic\"\n",
    "\n",
    "print(\"NMF done\")"
   ]
  },
  {
   "cell_type": "code",
   "execution_count": null,
   "metadata": {},
   "outputs": [],
   "source": [
    "# Estimate the individual sources\n",
    "estimated_sources = mss.estimate_sources(W, H, dataset.feature_object, phase_retrieval=\"original_phase\", phase=phase)\n",
    "\n",
    "# Score this estimation\n",
    "si_sdr, idx_argmax = mss.evaluate_si_sdr(stems, estimated_sources, scaling=True)\n",
    "snr, idx_argmax_snr = mss.evaluate_si_sdr(stems, estimated_sources, scaling=False)\n",
    "\n",
    "# Listen to the estimated sources\n",
    "for idx in range(len(estimated_sources)):\n",
    "    print(f\"Estimated source {idx+1}/{len(estimated_sources)}\")\n",
    "    print(f\"SDR: {si_sdr[idx]}, SNR: {snr[idx]}, Closest original stem: {stems_labels[idx_argmax[idx]]}\")\n",
    "    audio_helper.listen_to_this_signal(estimated_sources[idx])\n"
   ]
  }
 ],
 "metadata": {
  "kernelspec": {
   "display_name": "nmf_audio_benchmark",
   "language": "python",
   "name": "python3"
  },
  "language_info": {
   "codemirror_mode": {
    "name": "ipython",
    "version": 3
   },
   "file_extension": ".py",
   "mimetype": "text/x-python",
   "name": "python",
   "nbconvert_exporter": "python",
   "pygments_lexer": "ipython3",
   "version": "3.11.10"
  }
 },
 "nbformat": 4,
 "nbformat_minor": 2
}
