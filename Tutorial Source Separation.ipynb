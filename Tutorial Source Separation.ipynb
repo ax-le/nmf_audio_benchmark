{
 "cells": [
  {
   "cell_type": "markdown",
   "id": "15bf68f5",
   "metadata": {},
   "source": [
    "# Tutorial: Source Separation using NMF\n",
    "\n",
    "## Introduction\n",
    "This tutorial introduces the concept of source separation using Non-negative Matrix Factorization (NMF). Source separation involves isolating individual audio sources from a composite signal. NMF is a powerful technique for this purpose due to its ability to decompose a signal into its constituent parts, in an unsupervised fashion.\n",
    "\n",
    "## Objective\n",
    "By the end of this tutorial, you will understand how to apply NMF to separate sources from a mixed audio signal.\n",
    "\n",
    "## Prerequisites\n",
    "- Basic understanding of Python programming.\n",
    "- Familiarity with linear algebra concepts.\n",
    "- Installed Python environment with Jupyter Notebook.\n",
    "\n",
    "## Conceptual Overview\n",
    "NMF decomposes a non-negative data matrix into the product of two lower-rank non-negative matrices, often interpreted as the features and coefficients. In the context of audio, this allows us to separate original sources from a mixed signal.\n",
    "\n",
    "# Let's dive into the code!\n",
    "First, imports and parameters."
   ]
  },
  {
   "cell_type": "code",
   "execution_count": null,
   "id": "6919dd17",
   "metadata": {},
   "outputs": [],
   "source": [
    "## Code to set up the virtual environment\n",
    "# !pip install -r ../requirements.txt\n",
    "# !pip install -e ..\n",
    "\n",
    "## Download the AnuraSet dataset: visit https://zenodo.org/records/8342596\n",
    "## Set up the path to the dataset here\n",
    "anuraset_path = \"/home/a23marmo/datasets/anuraset\" # TO CHANGE"
   ]
  },
  {
   "cell_type": "code",
   "execution_count": null,
   "id": "338f002e",
   "metadata": {
    "ExecuteTime": {
     "end_time": "2023-04-20T14:30:59.318936Z",
     "start_time": "2023-04-20T14:30:57.647259Z"
    }
   },
   "outputs": [],
   "source": [
    "## Imports\n",
    "from nmf_audio_benchmark.dataloaders.ecoacoustics.source_count_dataloader import AnuraSet # Loader for the AnuraSet dataset\n",
    "\n",
    "import nmf_audio_benchmark.tasks.ecoacoustics.bss as bss # The scripts for evaluating the estimated_sources\n",
    "\n",
    "import nmf_audio_benchmark.algorithms.nn_fac_algos as nn_fac_algos # Code for NMF\n",
    "\n",
    "import base_audio.audio_helper as audio_helper # High level function to listen to audio files from spectrograms\n",
    "\n",
    "# Plotting functions\n",
    "from librosa.display import specshow\n",
    "import matplotlib.pyplot as plt"
   ]
  },
  {
   "cell_type": "code",
   "execution_count": null,
   "id": "650a404d",
   "metadata": {},
   "outputs": [],
   "source": [
    "## Signal parameters\n",
    "sr = 16000\n",
    "hop_length = 2048\n",
    "n_fft = hop_length * 2\n",
    "feature = \"stft_complex\" # The nn_log_mel (Nonnegative Log Mel Spectrogram, corresponding to log(mel + 1)) appeared to be the best performing feature in our experiments.\n",
    "\n",
    "# Loading the dataset\n",
    "dataset = AnuraSet(audio_path=f\"{anuraset_path}/raw_data/\", subfolder=\"INCT17\", annotations_file=f\"{anuraset_path}/weak_labels.csv\", \n",
    "                   feature=feature, sr=sr, hop_length=hop_length, n_fft=n_fft)\n",
    "\n",
    "# Loading a specific file\n",
    "file_name = \"INCT17_20191113_040000.wav\""
   ]
  },
  {
   "cell_type": "markdown",
   "id": "65b702af",
   "metadata": {},
   "source": [
    "Now, let's compute the spectrogram."
   ]
  },
  {
   "cell_type": "code",
   "execution_count": null,
   "id": "543f7dba",
   "metadata": {},
   "outputs": [],
   "source": [
    "## Computing the spectrogram\n",
    "if feature == \"stft_complex\":\n",
    "    (spec, phase), annotations = dataset.get_item_of_id(file_name)\n",
    "else:\n",
    "    spec, annotations = dataset.get_item_of_id(file_name)\n",
    "\n",
    "## Listen and plot the spectrogram\n",
    "print(\"Original spectrogram\")\n",
    "audio_helper.listen_to_this_spectrogram(spec, dataset.feature_object, phase_retrieval = \"original_phase\", original_phase = phase)\n",
    "\n",
    "fig, ax = plt.subplots()\n",
    "ax.set_title(\"Original spectrogram\")\n",
    "img = specshow(spec, sr=sr, hop_length=hop_length, y_axis=\"log\", x_axis = 'time', vmax=10) # specshow(W@H, sr=sr, hop_length=hop_length, y_axis=\"log\")\n",
    "# Save this figure as a png, with transparent background\n",
    "# plt.savefig(\"imgs/original_spectrogram.png\", transparent = True)\n",
    "plt.show()"
   ]
  },
  {
   "cell_type": "markdown",
   "id": "e553ad65",
   "metadata": {},
   "source": [
    "Now, let's compute NMF."
   ]
  },
  {
   "cell_type": "code",
   "execution_count": null,
   "id": "e672c483",
   "metadata": {},
   "outputs": [],
   "source": [
    "# NMF parameters\n",
    "n_nmf = 4 # Number of components, fixed to 10 because it correponded to the maximum number of species in the annotations.\n",
    "beta = 1 # The best performing beta in our experiments was 1\n",
    "\n",
    "# NMF object\n",
    "nmf = nn_fac_algos.nn_fac_NMF(n_nmf, beta=beta, init = \"nndsvd\", nmf_type=\"unconstrained\", normalize=[False, True])\n",
    "\n",
    "import time # Time the computation\n",
    "start = time.time()\n",
    "\n",
    "# Actually compute NMF\n",
    "W, H = nmf.run(data=spec)\n",
    "\n",
    "print(f\"NMF computation done in {time.time() - start} seconds.\")"
   ]
  },
  {
   "cell_type": "code",
   "execution_count": null,
   "id": "4d68ed77",
   "metadata": {},
   "outputs": [],
   "source": [
    "## Listen to the separated sources\n",
    "bss_object = bss.BlindSourceSeparation(feature_object=dataset.feature_object, nb_sources=n_nmf, phase_retrieval=\"original_phase\")\n",
    "source_list = bss_object.qualitatively_evaluate_source_separation(W, H, time_limit=None, phase=phase)"
   ]
  },
  {
   "cell_type": "markdown",
   "id": "b4175948",
   "metadata": {},
   "source": [
    "Plotting zone!\n",
    "\n",
    "Below you will find the spectrograms of the NMF outputs and of the separated sources."
   ]
  },
  {
   "cell_type": "code",
   "execution_count": null,
   "id": "af5be9f9",
   "metadata": {},
   "outputs": [],
   "source": [
    "# Plot the spectrograms of the W and H matrices\n",
    "fig, ax = plt.subplots(figsize=(0.5, 6))\n",
    "img = specshow(W, sr=sr, hop_length=hop_length, y_axis=\"log\", vmax=5)\n",
    "ax.set_title(\"W matrix (frequency components)\")\n",
    "# plt.savefig(\"imgs/W.png\", transparent = True)\n",
    "plt.show()\n",
    "\n",
    "fig, ax = plt.subplots(figsize=(10,0.5))\n",
    "img = specshow(H[::-1], sr=sr, hop_length=hop_length, x_axis=\"time\", vmax=5)\n",
    "ax.set_title(\"H matrix (time activations)\")\n",
    "# plt.savefig(\"imgs/H.png\", transparent = True)\n",
    "plt.show()"
   ]
  },
  {
   "cell_type": "code",
   "execution_count": null,
   "id": "71b475f3",
   "metadata": {},
   "outputs": [],
   "source": [
    "## Plot the spectrogram of each source\n",
    "for idx, a_source in enumerate(source_list):\n",
    "    fig, ax = plt.subplots()\n",
    "    img = specshow(a_source, sr=sr, hop_length=hop_length, y_axis=\"log\", x_axis=\"time\", vmax=10) # specshow(W@H, sr=sr, hop_length=hop_length, y_axis=\"log\")\n",
    "    ax.set_title(f\"Source {idx}\")\n",
    "    # plt.savefig(f\"imgs/source_{idx}.png\", transparent = True)\n",
    "    plt.show()"
   ]
  }
 ],
 "metadata": {
  "kernelspec": {
   "display_name": "Python 3 (ipykernel)",
   "language": "python",
   "name": "python3"
  },
  "language_info": {
   "codemirror_mode": {
    "name": "ipython",
    "version": 3
   },
   "file_extension": ".py",
   "mimetype": "text/x-python",
   "name": "python",
   "nbconvert_exporter": "python",
   "pygments_lexer": "ipython3",
   "version": "3.11.10"
  },
  "toc": {
   "base_numbering": 1,
   "nav_menu": {},
   "number_sections": true,
   "sideBar": true,
   "skip_h1_title": false,
   "title_cell": "Table of Contents",
   "title_sidebar": "Contents",
   "toc_cell": false,
   "toc_position": {},
   "toc_section_display": true,
   "toc_window_display": false
  },
  "varInspector": {
   "cols": {
    "lenName": 16,
    "lenType": 16,
    "lenVar": 40
   },
   "kernels_config": {
    "python": {
     "delete_cmd_postfix": "",
     "delete_cmd_prefix": "del ",
     "library": "var_list.py",
     "varRefreshCmd": "print(var_dic_list())"
    },
    "r": {
     "delete_cmd_postfix": ") ",
     "delete_cmd_prefix": "rm(",
     "library": "var_list.r",
     "varRefreshCmd": "cat(var_dic_list()) "
    }
   },
   "types_to_exclude": [
    "module",
    "function",
    "builtin_function_or_method",
    "instance",
    "_Feature"
   ],
   "window_display": false
  }
 },
 "nbformat": 4,
 "nbformat_minor": 5
}
